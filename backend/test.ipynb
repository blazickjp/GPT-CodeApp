{
 "cells": [
  {
   "cell_type": "code",
   "execution_count": 3,
   "metadata": {},
   "outputs": [],
   "source": [
    "from agent.agent_functions import FileChange, command_planner"
   ]
  },
  {
   "cell_type": "code",
   "execution_count": 4,
   "metadata": {},
   "outputs": [],
   "source": [
    "change = FileChange(name='backend/agent/agent.py', changes='')"
   ]
  },
  {
   "cell_type": "code",
   "execution_count": 6,
   "metadata": {},
   "outputs": [
    {
     "name": "stdout",
     "output_type": "stream",
     "text": [
      "/Users/josephblazick/Documents/GPT-CodeApp/backend/agent/memory_manager.py\n",
      "# base\n",
      "from typing import Optional, List\n",
      "from uuid import uuid4\n",
      "from datetime import datetime\n",
      "import\n"
     ]
    }
   ],
   "source": [
    "change.save()"
   ]
  },
  {
   "cell_type": "code",
   "execution_count": null,
   "metadata": {},
   "outputs": [],
   "source": []
  },
  {
   "cell_type": "code",
   "execution_count": 2,
   "metadata": {},
   "outputs": [],
   "source": [
    "plan = command_planner(\n",
    "'''\n",
    "The project directory is setup as follows:\n",
    "+--GPT-CodeApp\n",
    "    +--README.md\n",
    "    +--frontend\n",
    "        +--tailwind.config.js\n",
    "        +--next.config.js\n",
    "        +--README.md\n",
    "        +--postcss.config.js\n",
    "        +--styles\n",
    "            +--globals.css\n",
    "        +--components\n",
    "            +--SearchBar.js\n",
    "            +--ModelSelector.js\n",
    "            +--ModalBar.js\n",
    "            +--ChatInput.js\n",
    "            +--RightSidebar.js\n",
    "            +--EditFilesModal.js\n",
    "            +--ChatBox.js\n",
    "            +--LeftSidebar.js\n",
    "        +--store\n",
    "            +--sidebar\n",
    "                +--sidebarSlice.js\n",
    "            +--index.js\n",
    "            +--messages\n",
    "                +--messagesSlice.js\n",
    "        +--pages\n",
    "            +--index.js\n",
    "    +--backend\n",
    "        +--database\n",
    "            +--UpdateHandler.py\n",
    "            +--my_codebase.py\n",
    "        +--agent\n",
    "            +--openai_function_call.py\n",
    "            +--memory_manager.py\n",
    "            +--agent.py\n",
    "            +--agent_functions.py\n",
    "        +--.pytest_cache\n",
    "            +--README.md\n",
    "        +--tests\n",
    "            +--.pytest_cache\n",
    "                +--README.md\n",
    "            +--test_codebase.py\n",
    "            +--test_memory_manager.py\n",
    "        +--main.py\n",
    "\n",
    "Instructions:\n",
    "Let's improve the error handling in the memory_manager file. Currently, if the database is not available, the program will crash. \n",
    "We can improve this by adding a try/except block around the database connection and adding a retry decorator where needed. \n",
    "We should use the retry decorator from the tenacity library. Remove unnecessary code / imports add add comments where needed.\n",
    "Create a new git branch and ensure to give it an appropriate name, add robust error handling to the memory manager, \n",
    "commit these changes with an appropriate commit message, \n",
    "push the changes to the new branch, and then submit a pull request.\n",
    "'''\n",
    ")"
   ]
  },
  {
   "cell_type": "code",
   "execution_count": 5,
   "metadata": {},
   "outputs": [
    {
     "data": {
      "text/plain": [
       "CommandPlan(command_graph=[Command(id=1, command_type=<CommandType.BASH_COMMAND: 'bash'>, dependent_commands=[], command_line='git checkout -b improve-error-handling', file_change=None), Command(id=2, command_type=<CommandType.FILE_CHANGE: 'file_change'>, dependent_commands=[1], command_line=None, file_change=FileChange(name='backend/agent/memory_manager.py', changes='Add try/except block around the database connection and add a retry decorator from the tenacity library. Remove unnecessary code / imports and add comments where needed.')), Command(id=3, command_type=<CommandType.BASH_COMMAND: 'bash'>, dependent_commands=[2], command_line='git add backend/agent/memory_manager.py', file_change=None), Command(id=4, command_type=<CommandType.BASH_COMMAND: 'bash'>, dependent_commands=[3], command_line=\"git commit -m 'Improve error handling in memory manager'\", file_change=None), Command(id=5, command_type=<CommandType.BASH_COMMAND: 'bash'>, dependent_commands=[4], command_line='git push origin improve-error-handling', file_change=None), Command(id=6, command_type=<CommandType.BASH_COMMAND: 'bash'>, dependent_commands=[5], command_line=\"hub pull-request -m 'Improve error handling in memory manager'\", file_change=None)])"
      ]
     },
     "execution_count": 5,
     "metadata": {},
     "output_type": "execute_result"
    }
   ],
   "source": [
    "plan"
   ]
  },
  {
   "cell_type": "code",
   "execution_count": 4,
   "metadata": {},
   "outputs": [
    {
     "name": "stdout",
     "output_type": "stream",
     "text": [
      "[Command(id=1, command_type=<CommandType.BASH_COMMAND: 'bash'>, dependent_commands=[], command_line='git checkout -b improve-error-handling', file_change=None)]\n",
      "[Command(id=2, command_type=<CommandType.FILE_CHANGE: 'file_change'>, dependent_commands=[1], command_line=None, file_change=FileChange(name='backend/agent/memory_manager.py', changes='Add try/except block around the database connection and add a retry decorator from the tenacity library. Remove unnecessary code / imports and add comments where needed.'))]\n",
      "[Command(id=3, command_type=<CommandType.BASH_COMMAND: 'bash'>, dependent_commands=[2], command_line='git add backend/agent/memory_manager.py', file_change=None)]\n",
      "[Command(id=4, command_type=<CommandType.BASH_COMMAND: 'bash'>, dependent_commands=[3], command_line=\"git commit -m 'Improve error handling in memory manager'\", file_change=None)]\n",
      "[Command(id=5, command_type=<CommandType.BASH_COMMAND: 'bash'>, dependent_commands=[4], command_line='git push origin improve-error-handling', file_change=None)]\n",
      "[Command(id=6, command_type=<CommandType.BASH_COMMAND: 'bash'>, dependent_commands=[5], command_line=\"hub pull-request -m 'Improve error handling in memory manager'\", file_change=None)]\n"
     ]
    },
    {
     "data": {
      "text/plain": [
       "{1: CommandResult(command_id=1, output='\\r\\nThe default interactive shell is now zsh.\\r\\nTo update your account to use zsh, please run `chsh -s /bin/zsh`.\\r\\nFor more details, please visit https://support.apple.com/kb/HT208050.\\r\\nbash-3.2'),\n",
       " 2: CommandResult(command_id=2, output='changes complete'),\n",
       " 3: CommandResult(command_id=3, output=' cd /Users/josephblazick/Documents/GPT-CodeApp\\r\\nbash-3.2'),\n",
       " 4: CommandResult(command_id=4, output=\" git checkout -b improve-error-handling\\r\\nfatal: a branch named 'improve-error-handling' already exists\\r\\nbash-3.2\"),\n",
       " 5: CommandResult(command_id=5, output=' git add backend/agent/memory_manager.py\\r\\nbash-3.2'),\n",
       " 6: CommandResult(command_id=6, output=\" git commit -m 'Improve error handling in memory manager'\\r\\n[main 373b8a5] Improve error handling in memory manager\\r\\n 1 file changed, 24 insertions(+), 199 deletions(-)\\r\\nbash-3.2\")}"
      ]
     },
     "execution_count": 4,
     "metadata": {},
     "output_type": "execute_result"
    }
   ],
   "source": [
    "plan.execute()"
   ]
  },
  {
   "cell_type": "code",
   "execution_count": null,
   "metadata": {},
   "outputs": [],
   "source": []
  }
 ],
 "metadata": {
  "kernelspec": {
   "display_name": "Python 3",
   "language": "python",
   "name": "python3"
  },
  "language_info": {
   "codemirror_mode": {
    "name": "ipython",
    "version": 3
   },
   "file_extension": ".py",
   "mimetype": "text/x-python",
   "name": "python",
   "nbconvert_exporter": "python",
   "pygments_lexer": "ipython3",
   "version": "3.11.4"
  },
  "orig_nbformat": 4
 },
 "nbformat": 4,
 "nbformat_minor": 2
}
